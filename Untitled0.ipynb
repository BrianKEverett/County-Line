{
  "nbformat": 4,
  "nbformat_minor": 0,
  "metadata": {
    "colab": {
      "provenance": [],
      "authorship_tag": "ABX9TyMM5r1zeSFXKD3nolnbZ9gR",
      "include_colab_link": true
    },
    "kernelspec": {
      "name": "python3",
      "display_name": "Python 3"
    },
    "language_info": {
      "name": "python"
    }
  },
  "cells": [
    {
      "cell_type": "markdown",
      "metadata": {
        "id": "view-in-github",
        "colab_type": "text"
      },
      "source": [
        "<a href=\"https://colab.research.google.com/github/BrianKEverett/County-Line/blob/main/Untitled0.ipynb\" target=\"_parent\"><img src=\"https://colab.research.google.com/assets/colab-badge.svg\" alt=\"Open In Colab\"/></a>"
      ]
    },
    {
      "cell_type": "code",
      "execution_count": 50,
      "metadata": {
        "id": "GUa0u8DYv6ls"
      },
      "outputs": [],
      "source": [
        "!wget -q -O MuniData.csv https://drive.google.com/file/d/15DM1nLCSNW1EWvdSryCgKRHl-d6P8WrG/view?usp=sharing\n",
        "#This data is from the New Jersey Playbook. I chose to look at Southern New Jersey Legislative Districts across 3 years. It was important to first look at legislative map for 2011 thru 2021 to make sure choice of year stayed within 10-year timeframe before district were redrawn.\n",
        "#The three variables I believe will be most useful will be density, tax rate, and housing, to see if they affect each other."
      ]
    },
    {
      "cell_type": "code",
      "source": [
        "# basic navigation\n",
        "#wd =  'MuniData'  #'C:\\Users\\ref\\Desktop\\junk' # may need to ADJUST\n",
        "#os.makedirs(wd)\n",
        "#os.getcwd() #pwd\n",
        "!pwd\n",
        "#os.listdir(/content/MuniData.csv) #compare to clicking on the left the folder icon #dir\n",
        "!ls\n",
        "#os.chdir(wd)\n",
        "#os.getcwd()"
      ],
      "metadata": {
        "colab": {
          "base_uri": "https://localhost:8080/"
        },
        "id": "OU7QJu-VKCCW",
        "outputId": "9211377d-bcfc-4c83-9dcc-5c67c553ab01"
      },
      "execution_count": 51,
      "outputs": [
        {
          "output_type": "stream",
          "name": "stdout",
          "text": [
            "/content\n",
            " ex1.csv   MuniData.csv   sample_data  'view?usp=sharing'\n"
          ]
        }
      ]
    },
    {
      "cell_type": "code",
      "source": [
        "dat=pd.read_csv('MuniData.csv') #read it in  ; or full path: '/content/MuniData.csv' #This part I am not sure of what I've done wrong. Looks like in step 2 there are () for me to fill in, but not sure with what code"
      ],
      "metadata": {
        "colab": {
          "base_uri": "https://localhost:8080/",
          "height": 194
        },
        "id": "nin4ZaKJKU-E",
        "outputId": "fbd38434-b47b-46da-e307-236df293206a"
      },
      "execution_count": 52,
      "outputs": [
        {
          "output_type": "error",
          "ename": "NameError",
          "evalue": "ignored",
          "traceback": [
            "\u001b[0;31m---------------------------------------------------------------------------\u001b[0m",
            "\u001b[0;31mNameError\u001b[0m                                 Traceback (most recent call last)",
            "\u001b[0;32m<ipython-input-52-6c8d47c15132>\u001b[0m in \u001b[0;36m<cell line: 1>\u001b[0;34m()\u001b[0m\n\u001b[0;32m----> 1\u001b[0;31m \u001b[0mdat\u001b[0m\u001b[0;34m=\u001b[0m\u001b[0mpd\u001b[0m\u001b[0;34m.\u001b[0m\u001b[0mread_csv\u001b[0m\u001b[0;34m(\u001b[0m\u001b[0;34m'MuniData.csv'\u001b[0m\u001b[0;34m)\u001b[0m \u001b[0;31m#read it in  ; or full path: '/content/MuniData.csv' #This part I am not sure of what I've done wrong. Looks like in step 2 there are () for me to fill in, but not sure with what code\u001b[0m\u001b[0;34m\u001b[0m\u001b[0;34m\u001b[0m\u001b[0m\n\u001b[0m",
            "\u001b[0;31mNameError\u001b[0m: name 'pd' is not defined"
          ]
        }
      ]
    },
    {
      "cell_type": "code",
      "source": [],
      "metadata": {
        "id": "u8fZVrkzK3PP"
      },
      "execution_count": null,
      "outputs": []
    }
  ]
}