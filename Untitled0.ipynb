{
  "nbformat": 4,
  "nbformat_minor": 0,
  "metadata": {
    "colab": {
      "provenance": [],
      "authorship_tag": "ABX9TyOs0mLqZ/DTd2v9G3h66/Tv",
      "include_colab_link": true
    },
    "kernelspec": {
      "name": "python3",
      "display_name": "Python 3"
    },
    "language_info": {
      "name": "python"
    }
  },
  "cells": [
    {
      "cell_type": "markdown",
      "metadata": {
        "id": "view-in-github",
        "colab_type": "text"
      },
      "source": [
        "<a href=\"https://colab.research.google.com/github/BrianKEverett/County-Line/blob/main/Untitled0.ipynb\" target=\"_parent\"><img src=\"https://colab.research.google.com/assets/colab-badge.svg\" alt=\"Open In Colab\"/></a>"
      ]
    },
    {
      "cell_type": "code",
      "source": [
        "#get useful libraries\n",
        "import time, os, sys, re #basics\n",
        "import zipfile, json, datetime, string   #string for annotating points in scatter\n",
        "import numpy as np #basic math\n",
        "from statistics import * #stats\n",
        "\n",
        "import matplotlib.pyplot as plt #import pylab as plt #apparently discouraged now:\n",
        " #https://stackoverflow.com/questions/11469336/what-is-the-difference-between-pylab-and-pyplot\n",
        " #https://www.tutorialspoint.com/matplotlib/matplotlib_pylab_module.htm\n",
        "\n",
        "import pandas as pd\n",
        "import pandas_datareader as pdr\n",
        "from pandas_datareader import wb\n",
        "from pandas.io.formats.style import Styler\n",
        "#s4 = Styler(df4, uuid_len=0, cell_ids=False)"
      ],
      "metadata": {
        "id": "nvm2TWjtNqjK"
      },
      "execution_count": 53,
      "outputs": []
    },
    {
      "cell_type": "code",
      "execution_count": 54,
      "metadata": {
        "id": "GUa0u8DYv6ls"
      },
      "outputs": [],
      "source": [
        "!wget -q -O MuniData.csv https://drive.google.com/file/d/15DM1nLCSNW1EWvdSryCgKRHl-d6P8WrG/view?usp=sharing\n",
        "#This data is from the New Jersey Playbook. I chose to look at Southern New Jersey Legislative Districts across 3 years. It was important to first look at legislative map for 2011 thru 2021 to make sure choice of year stayed within 10-year timeframe before district were redrawn.\n",
        "#The three variables I believe will be most useful will be density, tax rate, and housing, to see if they affect each other."
      ]
    },
    {
      "cell_type": "code",
      "source": [
        "# basic navigation\n",
        "#wd =  'MuniData'  #'C:\\Users\\ref\\Desktop\\junk' # may need to ADJUST\n",
        "#os.makedirs(wd)\n",
        "#os.getcwd() #pwd\n",
        "!pwd\n",
        "#os.listdir(/content/MuniData.csv) #compare to clicking on the left the folder icon #dir\n",
        "!ls\n",
        "#os.chdir(wd)\n",
        "#os.getcwd()"
      ],
      "metadata": {
        "colab": {
          "base_uri": "https://localhost:8080/"
        },
        "id": "OU7QJu-VKCCW",
        "outputId": "e749363f-4eaf-42cd-8d55-822fe7455b8c"
      },
      "execution_count": 55,
      "outputs": [
        {
          "output_type": "stream",
          "name": "stdout",
          "text": [
            "/content\n",
            " ex1.csv   MuniData.csv   sample_data  'view?usp=sharing'\n"
          ]
        }
      ]
    },
    {
      "cell_type": "code",
      "source": [
        "dat=pd.read_csv('MuniData.csv') #read it in  ; or full path: '/content/MuniData.csv' #This part I am not sure of what I've done wrong. Looks like in step 2 there are () for me to fill in, but not sure with what code"
      ],
      "metadata": {
        "id": "nin4ZaKJKU-E"
      },
      "execution_count": 56,
      "outputs": []
    },
    {
      "cell_type": "code",
      "source": [
        "dat.columns"
      ],
      "metadata": {
        "colab": {
          "base_uri": "https://localhost:8080/"
        },
        "id": "u8fZVrkzK3PP",
        "outputId": "17112bc3-9246-4fa9-9959-db4ec81b768b"
      },
      "execution_count": 57,
      "outputs": [
        {
          "output_type": "execute_result",
          "data": {
            "text/plain": [
              "Index(['<!DOCTYPE html><html><head><meta name=\"google\" content=\"notranslate\"><meta http-equiv=\"X-UA-Compatible\" content=\"IE=edge;\"><style nonce=\"0VFCiveMB18E-kZBdUODGQ\">@font-face{font-family:'Roboto';font-style:italic;font-weight:400;src:url(//fonts.gstatic.com/s/roboto/v18/KFOkCnqEu92Fr1Mu51xIIzc.ttf)format('truetype');}@font-face{font-family:'Roboto';font-style:normal;font-weight:300;src:url(//fonts.gstatic.com/s/roboto/v18/KFOlCnqEu92Fr1MmSU5fBBc9.ttf)format('truetype');}@font-face{font-family:'Roboto';font-style:normal;font-weight:400;src:url(//fonts.gstatic.com/s/roboto/v18/KFOmCnqEu92Fr1Mu4mxP.ttf)format('truetype');}@font-face{font-family:'Roboto';font-style:normal;font-weight:500;src:url(//fonts.gstatic.com/s/roboto/v18/KFOlCnqEu92Fr1MmEU9fBBc9.ttf)format('truetype');}@font-face{font-family:'Roboto';font-style:normal;font-weight:700;src:url(//fonts.gstatic.com/s/roboto/v18/KFOlCnqEu92Fr1MmWUlfBBc9.ttf)format('truetype');}</style><meta name=\"referrer\" content=\"origin\"><title>MuniData.csv - Google Drive</title><meta property=\"og:title\" content=\"MuniData.csv\"><meta property=\"og:type\" content=\"article\"><meta property=\"og:site_name\" content=\"Google Docs\"><meta property=\"og:url\" content=\"https://drive.google.com/file/d/15DM1nLCSNW1EWvdSryCgKRHl-d6P8WrG/view?usp=sharing&amp;usp=embed_facebook\"><link rel=\"shortcut icon\" href=\"https://ssl.gstatic.com/images/branding/product/1x/drive_2020q4_32dp.png\"><link rel=\"stylesheet\" href=\"https://fonts.googleapis.com/css?family=Google+Sans:300',\n",
              "       '400', '500',\n",
              "       '700\" nonce=\"0VFCiveMB18E-kZBdUODGQ\"><link rel=\"stylesheet\" href=\"https://www.gstatic.com/_/apps-fileview/_/ss/k=apps-fileview.v.djH-cqkPRQ8.L.W.O/d=0/rs=AO0039tcH4RXOQGIHYB8_ekJdMo3rAWX8Q\" nonce=\"0VFCiveMB18E-kZBdUODGQ\"><script nonce=\"E9gvqBU3sqsRlb85moH0hQ\">_docs_flag_initialData={\"docs-ails\":\"docs_cold\"',\n",
              "       'docs-fwds:\"docs_sdf\"', 'docs-crs:\"docs_crs_nl\"', 'docs-fe-re:2',\n",
              "       'docs-fl:1', 'docs-l1lc:2', 'docs-l1lm:\"CHS\"',\n",
              "       ...\n",
              "       '0.87', '0.88', '0.89', '1.66', '82159412].1', '[[null.2', 'null.214',\n",
              "       'null.215',\n",
              "       'https://www.gstatic.com/og/_/js/k=og.qtm.en_US.aF9EEHjYt8s.es5.O/rt=j/m=qabr,q_dnp,qapid,q_dg/exm=qaaw,qadd,qaid,qein,qhaw,qhba,qhbr,qhch,qhga,qhid,qhin/d=1/ed=1/rs=AA2YrTviDd6dDK9De8fvxqEv1HaRcAwjDQ]]]]',\n",
              "       '};this.gbar_=this.gbar_||{};(function(_){var window=this;'],\n",
              "      dtype='object', length=890)"
            ]
          },
          "metadata": {},
          "execution_count": 57
        }
      ]
    },
    {
      "cell_type": "code",
      "source": [],
      "metadata": {
        "id": "DwIe_cl-N7jR"
      },
      "execution_count": null,
      "outputs": []
    }
  ]
}