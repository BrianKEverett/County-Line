{
  "nbformat": 4,
  "nbformat_minor": 0,
  "metadata": {
    "colab": {
      "provenance": [],
      "authorship_tag": "ABX9TyNwonzO08YvnB4F9cjVt6zU",
      "include_colab_link": true
    },
    "kernelspec": {
      "name": "python3",
      "display_name": "Python 3"
    },
    "language_info": {
      "name": "python"
    }
  },
  "cells": [
    {
      "cell_type": "markdown",
      "metadata": {
        "id": "view-in-github",
        "colab_type": "text"
      },
      "source": [
        "<a href=\"https://colab.research.google.com/github/BrianKEverett/County-Line/blob/main/PS5_Everett.ipynb\" target=\"_parent\"><img src=\"https://colab.research.google.com/assets/colab-badge.svg\" alt=\"Open In Colab\"/></a>"
      ]
    },
    {
      "cell_type": "code",
      "execution_count": 2,
      "metadata": {
        "id": "1hi2ciKqEldF"
      },
      "outputs": [],
      "source": [
        "#Notes from class 11/14/23 - don't forget to include Theory from November 7th class in thoughts for PS5, 6, and final.\n",
        "#PS5 does not need slides, just the notebook is fine for the presentation\n",
        "#PS6 Ideally this is the final project (draft of the final project)\n",
        "#good to focus on polishing code, combine with theory, delete unnecessary variables, rename variables, initial findings as an extended abstract\n",
        "#Go back through all previous problem sets to develop code. Make sure to execute better on PS3 for developing final dataset.\n",
        "#For PS5 and forward, see if possible to bring in data for campaign contributions!!!\n",
        "#Ask Adam about Center, Left, Right etc from previous PS's"
      ]
    },
    {
      "cell_type": "markdown",
      "source": [
        "Probably good to try two different approaches. Go big and try to create a NJ-wide dataset for dissertation purposes. But then approach #2 is to keep it simple for the purposes for this class and isolate things to South Jersey or just a few counties.\n",
        "First do means, medians, modes, descriptive stats, some graphs, etc., before doing regressions etc.\n",
        "Plotly on syllabus is good for graphs codes.\n",
        "\n",
        "Missing data - don't drop rows for one missing varibale, will waste other data. Instead do pairwise correlation.\n",
        "df.info() is a good codes to use for finding missing data/understand types of variables i.e string, text\n",
        "\n",
        "msno.matrix(df) very useful for identifying missingness - good to use this for the order in which you write your regression so that you leave the variable with missingness toward the end.\n"
      ],
      "metadata": {
        "id": "C_Mk1kR8G8D1"
      }
    },
    {
      "cell_type": "markdown",
      "source": [
        "Make sure to important sklearn.impute for machine learning library.\n",
        "String can be name of a car as well as number - you can turn anything into a string and do manipulations with it.\n",
        "Good tip - sometimes I might need to replace \"Atlantic COUNTY with \"Atlantic\" nothing - bc other dataset does not include the word county.\n",
        "[#:#] == code for seeing or using just first few observations\n",
        "[:-7] == code for deleting characters off the end of variable names. Same way of doing .str.replace(' County', '') note the space"
      ],
      "metadata": {
        "id": "yXe6jaDJPieb"
      }
    },
    {
      "cell_type": "markdown",
      "source": [
        "Fuzzy wuzzy is a probabalistic merge, matches strings if they are close enough.\n",
        "Code for FuzzyWuzzy == !pip install fuzzywuzzy\n"
      ],
      "metadata": {
        "id": "ulpQtQBBV2Kp"
      }
    },
    {
      "cell_type": "markdown",
      "source": [
        "Don't forget to set up meetings when possible with Professor Adam - start early, ask questions, definitely do not be afraid of going about this with two sub-projects as mentioned above. Don't be afraid to decide to find new datasets if something out there will work better for what I am working on."
      ],
      "metadata": {
        "id": "EQn3VHOahQv7"
      }
    },
    {
      "cell_type": "code",
      "source": [],
      "metadata": {
        "id": "4RQf9R4qh1XO"
      },
      "execution_count": null,
      "outputs": []
    },
    {
      "cell_type": "markdown",
      "source": [
        "Proposal for PS5, PS6 and Final Data sets for merging:\n",
        "\n",
        "-Big Permits @ $499K\n",
        "\n",
        "-Big Permits @ $250K (need to get back in contact with DCA guy!)\n",
        "\n",
        "-Taxes\n",
        "\n",
        "-Municipal Budgets\n",
        "\n",
        "-County level budgets\n",
        "\n",
        "-Population data at muni level\n",
        "\n",
        "-Campaign Contributions\n",
        "\n",
        "-Maybe use a type of BRFSS data for happiness over big permits\n",
        "\n",
        "-Crime, always good to consider crime in social science"
      ],
      "metadata": {
        "id": "Ibxueauyh2Ee"
      }
    },
    {
      "cell_type": "code",
      "source": [],
      "metadata": {
        "id": "SRDvHvm0h7Ow"
      },
      "execution_count": null,
      "outputs": []
    }
  ]
}