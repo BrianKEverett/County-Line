{
  "nbformat": 4,
  "nbformat_minor": 0,
  "metadata": {
    "colab": {
      "provenance": [],
      "authorship_tag": "ABX9TyMpKaCe0O27fM33aN4ywYGb",
      "include_colab_link": true
    },
    "kernelspec": {
      "name": "python3",
      "display_name": "Python 3"
    },
    "language_info": {
      "name": "python"
    }
  },
  "cells": [
    {
      "cell_type": "markdown",
      "metadata": {
        "id": "view-in-github",
        "colab_type": "text"
      },
      "source": [
        "<a href=\"https://colab.research.google.com/github/BrianKEverett/County-Line/blob/main/PS5_Everett.ipynb\" target=\"_parent\"><img src=\"https://colab.research.google.com/assets/colab-badge.svg\" alt=\"Open In Colab\"/></a>"
      ]
    },
    {
      "cell_type": "code",
      "execution_count": 1,
      "metadata": {
        "id": "1hi2ciKqEldF"
      },
      "outputs": [],
      "source": [
        "#Notes from class 11/14/23 - don't forget to include Theory from November 7th class in thoughts for PS5, 6, and final.\n",
        "#PS5 does not need slides, just the notebook is fine for the presentation\n",
        "#PS6 Ideally this is the final project (draft of the final project)\n",
        "#good to focus on polishing code, combine with theory, delete unnecessary variables, rename variables, initial findings as an extended abstract\n",
        "#Go back through all previous problem sets to develop code. Make sure to execute better on PS3 for developing final dataset.\n",
        "#For PS5 and forward, see if possible to bring in data for campaign contributions!!!"
      ]
    },
    {
      "cell_type": "markdown",
      "source": [
        "Probably good to try two different approaches. Go big and try to create a NJ-wide dataset for dissertation purposes. But then approach #2 is to keep it simple for the purposes for this class and isolate things to South Jersey or just a few counties.\n",
        "First do means, medians, modes, descriptive stats, some graphs, etc., before doing regressions etc.\n",
        "Plotly on syllabus is good for graphs codes.\n",
        "\n",
        "Missing data - don't drop rows for one missing varibale, will waste other data. Instead do pairwise correlation.\n",
        "df.info() is a good codes to use for finding missing data/understand types of variables i.e string, text\n",
        "\n",
        "msno.matrix(df) very useful for identifying missingness - good to use this for the order in which you write your regression so that you leave the variable with missingness toward the end.\n"
      ],
      "metadata": {
        "id": "C_Mk1kR8G8D1"
      }
    },
    {
      "cell_type": "markdown",
      "source": [
        "Make sure to important sklearn.impute for machine learning library."
      ],
      "metadata": {
        "id": "yXe6jaDJPieb"
      }
    }
  ]
}